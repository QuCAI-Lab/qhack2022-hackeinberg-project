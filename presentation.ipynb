{
  "cells": [
    {
      "cell_type": "markdown",
      "source": [
        "[![Open In Colab](https://colab.research.google.com/assets/colab-badge.svg)](https://colab.research.google.com/github/QuCAI-Lab/qhack2022-hackeinberg-project/blob/dev/presentation.ipynb)\n",
        "[![License](https://img.shields.io/github/license/QuCAI-Lab/QHack2022.svg?logo=CreativeCommons&style=flat-square)](https://github.com/QuCAI-Lab/qhack2022-hackeinberg-project/blob/dev/LICENSE.md)\n",
        "![Contributions](https://img.shields.io/badge/contributions-welcome-orange?style=flat-square)\n",
        "[![Maintenance](https://img.shields.io/badge/Maintained%3F-yes-green.svg)](https://github.com/QuCAI-Lab/qhack2022-hackeinberg-project/graphs/commit-activity)\n",
        "[![Build Status](https://github.com/QuCAI-Lab/qhack2022-hackeinberg-project/actions/workflows/tests.yml/badge.svg?branch=dev)](https://github.com/QuCAI-Lab/qhack2022-hackeinberg-project/actions/workflows/tests.yml)\n",
        "[![Release](https://img.shields.io/github/release/QuCAI-Lab/qhack2022-hackeinberg-project.svg)](https://github.com/QuCAI-Lab/qhack2022-hackeinberg-project/releases)\n",
        "[![commit](https://img.shields.io/github/last-commit/QuCAI-Lab/qhack2022-hackeinberg-project)](https://github.com/QuCAI-Lab/qhack2022-hackeinberg-project/commits)\n",
        "[![Forks](https://img.shields.io/github/forks/QuCAI-Lab/qhack2022-hackeinberg-project)](https://github.com/QuCAI-Lab/qhack2022-hackeinberg-project/fork)\n",
        "\n",
        "<div align=\"center\">\n",
        "  <h1> <a href=\"https://qhack.ai/events#hackathon-challenges\"> QHack2022 Open Hackaton </a> - Hackeinberg Team Project </h1>\n",
        "  <h2> Extending Adaptive Methods for Finding an Optimal Circuit Ansatze in VQE Optimization</h2>\n",
        "</div>\n",
        "<br>\n",
        "\n",
        "<center> <b>Authors: ¹Lucas Camponogara Viera, ²José Paulo Marchezi</b></center>\n",
        "<center>\n",
        "<b><a target=\"_blank\" href=\"https://en.ntnu.edu.tw/\">¹National Taiwan Normal University - NTNU, Taipei, Taiwan</a></b>.\n",
        "<br>\n",
        "<b><a target=\"_blank\" href=\"https://www.gov.br/inpe/pt-br\">²National Institute for Space Research - INPE, São José dos Campos, SP, Brazil</a></b>.\n",
        "<br>\n",
        "<b><a target=\"_blank\" href=\"http://english.nssc.cas.cn/\">²State  Key  Laboratory  of  Space  Weather,  National  Space  Science  Center, Chinese  Academy  of  Sciences, China</a></b>.\n",
        "</center>"
      ],
      "metadata": {
        "id": "pVw3SNdrNYwq"
      }
    },
    {
      "cell_type": "markdown",
      "metadata": {
        "id": "Fg9ogdqnGErI"
      },
      "source": [
        "<br>\n",
        "\n",
        "[comment]: <> ()\n",
        "<table class=\"tfo-notebook-buttons\" align=\"head\">\n",
        "  <td>\n",
        "    <a target=\"_blank\" href=\"https://github.com/QuCAI-Lab/qhack2022-hackeinberg-project\"><img src=\"https://www.tensorflow.org/images/GitHub-Mark-32px.png\" /></a>\n",
        "  </td>\n",
        "</table>\n",
        "\n",
        "<center><a href=\"https://github.com/QuCAI-Lab/qhack2022-hackeinberg-project\"><b>View source on GitHub.</b></a></center>\n",
        "\n",
        "    \n"
      ]
    },
    {
      "cell_type": "code",
      "execution_count": null,
      "metadata": {
        "colab": {
          "base_uri": "https://localhost:8080/",
          "height": 34
        },
        "id": "QMXuePYlOKOw",
        "outputId": "5b889fa1-427e-4c5a-ade4-3172596e7ff0"
      },
      "outputs": [
        {
          "output_type": "display_data",
          "data": {
            "application/javascript": [
              "IPython.notebook.set_autosave_interval(30000)"
            ]
          },
          "metadata": {}
        },
        {
          "output_type": "stream",
          "name": "stdout",
          "text": [
            "Autosaving every 30 seconds\n"
          ]
        }
      ],
      "source": [
        "%autosave 30"
      ]
    },
    {
      "cell_type": "markdown",
      "source": [
        "---\n",
        "\n",
        "In this jupyter notebook, the authors describe a step-by-step implementation of a hybrid quantum-classical optimization approach to find the optimal gate arrangement of a problem-specific ansatze (quantum circuit). We demonstrate the variational circuit approach to find the ground state of the LiH molecule considering only single and double excitations.\n",
        "\n",
        "---"
      ],
      "metadata": {
        "id": "_RXgPil_NJyF"
      }
    },
    {
      "cell_type": "markdown",
      "source": [
        "# **Project Description**\n"
      ],
      "metadata": {
        "id": "q1IxTZ-MNG1P"
      }
    },
    {
      "cell_type": "markdown",
      "source": [
        "## Background and Motivation\n",
        "\n",
        "Most widely considered hardware-efficient and Chemistry-inspired ansatze, although generic, suffer from either barren plateaus [[1](https://www.nature.com/articles/s41467-018-07090-4)] or inconsistency under low-order trotterization steps [[2](https://pubs.acs.org/doi/abs/10.1021/acs.jctc.9b01083)], respectively. To circumvent this drawback, different algorithms for optimization of variational quantum circuits (VQA), the so-called adaptive circuits, have already been proposed in the literature [[4](https://pennylane.ai/qml/demos/tutorial_adaptive_circuits.html)]. One example is the Adaptive Derivative-Assembled Pseudo-Trotter ansatz Variational Quantum Eigensolver (ADAPT-VQE) [[3](https://www.nature.com/articles/s41467-019-10988-2)]. In a nutshell, the ADAPT-VQE approach is to grow the ansatz by adding fermionic operators one-at-a-time so to preserve the amount of correlation energy. This approach can also be regarded as a particular optimization procedure for Full Configuration Interaction (FCI) VQE.\n",
        "\n",
        "In this work, we combine some of the existing methods applied to the hybrid quantum-classical VQE [[5](https://doi.org/10.1038/ncomms5213)] algorithm for the particular case of the ground state of the LiH molecule. We prioritize the minimization of the circuit depth (the longest sequence of gates acting on a qubit register) at the cost of increasing parameter count (the number of parameters to be optimized) given the tradeoff between difficulty in implementation on NISQ devices vs difficulty in optimization on classical computers, respectively. The baseline approach took into consideration the following features for a good ansatz:\n",
        "\n",
        "1. Coherence friendly: the circuit must be shallow, i.e, have a small number of layers in order to be computed during a time window smaller than the decoherence time.\n",
        "2. Hardware friendly (qubit routing): gate coupling allowed only between nearest-neighbor qubits to avoid SWAP gates during qubit routing (mapping from the circuit diagram to a hardware topology).\n",
        "3. Small number of hyperparameters: we seek the minimum amount of angles to be optimized in order to avoid classical optimization overhead (when classical computation becomes too expensive).\n",
        "\n",
        "In its early stages, the goal is to find a quasi-optimal ansatz by restricting the VQE simulation to single and double order excitations only. For the future, we plan to use a deep reinforcement learning approach to learn an exact circuit ansatz considering higher excitation orders and the [Qamuy SDK](https://qamuy.qunasys.com/docs/en/).\n",
        "\n",
        "\n"
      ],
      "metadata": {
        "id": "s6Oj7QQHwMdf"
      }
    },
    {
      "cell_type": "markdown",
      "source": [
        "## Algorithm outline\n",
        "\n",
        "1. With the spin orbitals of the molecule of interest, compute its second-quantized electronic Hamiltonian in the STO-3G basis.\n",
        "\n",
        "2. Map the fermionic Hamiltonian given in terms of its fermionic operators into a spin qubit-equivalent Hamiltonian using either Bravyi-Kitaev or the inverted Jordan–Wigner transformation. This is required to perform gate-based quantum computation. The Hamiltonian will be used to compute the cost function that evaluates the expectation value of the Hamiltonian, while the number of qubits is required to obtain the electronic excitations and to set up the quantum circuit.\n",
        "\n",
        "3. Obtain the single and double electronic excitations by acting with the electron annihilation and creation operators on the Hartree-Fock reference state.\n",
        "\n",
        "4. Define a set with all unique single and double excitations to create the correspondent SO(2) unitary qubit gates (the particular Givens rotations) to each electronic excitation operator in order to build a quantum circuit ansatz of particle-conserving unitary qubit gates.\n",
        "\n",
        "5. Initialize the qubit state to a reference Hartree-Fock state.\n",
        "\n",
        "6. Initialize the parameter values of each gate in the ansatz to zero, i.e, initialize the ansatz to the identity matrix in order to compute the gradients with respect to the Hartree-Fock state.\n",
        "\n",
        "7. Prepare the trial estate with the current ansatz.\n",
        "\n",
        "8. Define the cost function as the expectation value of the qubit Hamiltonian. Define an optimizer (e.g. SGD).\n",
        "\n",
        "9. Use the parameter shift rule to compute the gradient of the cost function with respect to its tunable parameters.\n",
        "\n",
        "10. Identify the operators (gates) with the maximum and minimum gradient in magnitude. Add to the ansatz the gate whose gradient is at maximum magnitude. Remove from the set the gate with the gradient at minimum magnitude if it is smaller than a predefined threshold. Here, we add one gate per iteration while deleting a single gate if it satisfies the above condition.\n",
        "\n",
        "11.  Use the optimizer to update the circuit parameters according to a VQE experiment.\n",
        "\n",
        "12. Define convergence as the difference between the ground truth and the expected value for the current optimization step. If the convergence tolerance is less than or equal to a pre-defined threshold $\\epsilon$, exit the optimization loop and evaluate the cost metric of the final optimized circuit by measuring its circuit depth.\n",
        "\n",
        "13. Repeat step 9."
      ],
      "metadata": {
        "id": "o0Tnc68dansI"
      }
    },
    {
      "cell_type": "markdown",
      "source": [
        "## Outlook\n",
        "\n",
        "For the future, if possible, we plan to frame the variational quantum algorithm (VQA) as a deep reinforcement learning paradigm to learn an exact circuit ansatz considering higher excitation orders."
      ],
      "metadata": {
        "id": "OJhA6vNfatf_"
      }
    },
    {
      "cell_type": "markdown",
      "metadata": {
        "id": "CmbgaBs5oiy7"
      },
      "source": [
        "# &nbsp; <a href=\"https://creativecommons.org/licenses/by/4.0/\"><img valign=\"middle\" src=\"https://img.icons8.com/copyright\" width=\"50\"></a> License"
      ]
    },
    {
      "cell_type": "code",
      "execution_count": null,
      "metadata": {
        "id": "4m7yh2pTm6P6"
      },
      "outputs": [],
      "source": [
        "#@title Copyright 2022.\n",
        "# This code is part of qhack2022-hackeinberg-project.\n",
        "#\n",
        "# (C) Copyright NTNU QuCAI-Lab, 2022.\n",
        "#\n",
        "# This code is licensed under the Creative Commons Zero v1.0 Universal License. \n",
        "# You may obtain a copy of the License at https://github.com/QuCAI-Lab/qhack2022-hackeinberg-project/blob/dev/LICENSE.md."
      ]
    },
    {
      "cell_type": "markdown",
      "source": [
        "# &nbsp; <a href=\"https://cloud.google.com/tpu/\"><img valign=\"middle\" src=\"https://raw.githubusercontent.com/GoogleCloudPlatform/tensorflow-without-a-phd/master/tensorflow-rl-pong/images/tpu-hexagon.png\" width=\"50\"></a> Colab's memory card "
      ],
      "metadata": {
        "id": "GHTBXRY_Th2M"
      }
    },
    {
      "cell_type": "markdown",
      "source": [
        "\"Executing a code cell within a GPU or TPU runtime does not mean that GPU or TPU is being used.\" \n",
        "\n",
        "[For more information about GPU usage on Colab](https://research.google.com/colaboratory/faq.html#gpu-availability)."
      ],
      "metadata": {
        "id": "ArYPwhIsUMEK"
      }
    },
    {
      "cell_type": "markdown",
      "source": [
        "## CPU"
      ],
      "metadata": {
        "id": "v--q3KNPTrMM"
      }
    },
    {
      "cell_type": "markdown",
      "source": [
        "1. Click on the tab `Runtime -> Change runtime type`.\n",
        "1. Click on `Hardware accelerator`.\n",
        "1. Select `None` from the drop-down menu and click `Save`.\n",
        "1. Click `Connect` in the upper right corner and select `Connect to hosted runtime` (if not automatically)."
      ],
      "metadata": {
        "id": "N7kutjT4Ts_1"
      }
    },
    {
      "cell_type": "code",
      "source": [
        "!free -h    # Show CPU Memory.\n",
        "              # 'free' = wasted memory (not being used).\n",
        "              # 'available' = memory for allocation.\n",
        "              # 'buff/cache' used memory for cache (Data has been read) and buffer (data is being written).\n",
        "              # 'free' + 'buff/cache' = 'available'.\n",
        "\n",
        "print('')\n",
        "!lscpu      # Show CPU Architecture."
      ],
      "metadata": {
        "colab": {
          "base_uri": "https://localhost:8080/"
        },
        "id": "0HCCpQ4RTjJw",
        "outputId": "b45cb126-98eb-4f15-ae74-93fcd5d70fdc"
      },
      "execution_count": null,
      "outputs": [
        {
          "output_type": "stream",
          "name": "stdout",
          "text": [
            "              total        used        free      shared  buff/cache   available\n",
            "Mem:            12G        1.3G        8.9G        1.2M        2.5G         11G\n",
            "Swap:            0B          0B          0B\n",
            "\n",
            "Architecture:        x86_64\n",
            "CPU op-mode(s):      32-bit, 64-bit\n",
            "Byte Order:          Little Endian\n",
            "CPU(s):              2\n",
            "On-line CPU(s) list: 0,1\n",
            "Thread(s) per core:  2\n",
            "Core(s) per socket:  1\n",
            "Socket(s):           1\n",
            "NUMA node(s):        1\n",
            "Vendor ID:           GenuineIntel\n",
            "CPU family:          6\n",
            "Model:               79\n",
            "Model name:          Intel(R) Xeon(R) CPU @ 2.20GHz\n",
            "Stepping:            0\n",
            "CPU MHz:             2200.140\n",
            "BogoMIPS:            4400.28\n",
            "Hypervisor vendor:   KVM\n",
            "Virtualization type: full\n",
            "L1d cache:           32K\n",
            "L1i cache:           32K\n",
            "L2 cache:            256K\n",
            "L3 cache:            56320K\n",
            "NUMA node0 CPU(s):   0,1\n",
            "Flags:               fpu vme de pse tsc msr pae mce cx8 apic sep mtrr pge mca cmov pat pse36 clflush mmx fxsr sse sse2 ss ht syscall nx pdpe1gb rdtscp lm constant_tsc rep_good nopl xtopology nonstop_tsc cpuid tsc_known_freq pni pclmulqdq ssse3 fma cx16 pcid sse4_1 sse4_2 x2apic movbe popcnt aes xsave avx f16c rdrand hypervisor lahf_lm abm 3dnowprefetch invpcid_single ssbd ibrs ibpb stibp fsgsbase tsc_adjust bmi1 hle avx2 smep bmi2 erms invpcid rtm rdseed adx smap xsaveopt arat md_clear arch_capabilities\n"
          ]
        }
      ]
    },
    {
      "cell_type": "markdown",
      "source": [
        "## GPU"
      ],
      "metadata": {
        "id": "IUFyfpx5T7bW"
      }
    },
    {
      "cell_type": "markdown",
      "source": [
        "1. Click on the tab `Runtime -> Change runtime type`.\n",
        "1. Click on `Hardware accelerator`.\n",
        "1. Select `GPU` from the drop-down menu and click `Save`.\n",
        "1. Click `Connect` in the upper right corner and select `Connect to hosted runtime` (if not automatically)."
      ],
      "metadata": {
        "id": "z3oGkZgZUf_q"
      }
    },
    {
      "cell_type": "code",
      "source": [
        "!nvidia-smi #Show GPU Card"
      ],
      "metadata": {
        "id": "NCiea66hT_TB"
      },
      "execution_count": null,
      "outputs": []
    },
    {
      "cell_type": "markdown",
      "source": [
        "# &nbsp; <a href=\"https://colab.research.google.com/\"><img valign=\"middle\" src=\"https://www.tensorflow.org/images/colab_logo_32px.png\" width=\"50\"></a> Pip Install\n",
        "\n",
        "**Run this cell only if you are running this jupyter notebook on google colab.**\n",
        "\n",
        "**Installing `Qamuy`, `PennyLane`, `pennylane-qchem`, `pyscf`, `openfermionpyscf`, and `pylatexenc`.**\n"
      ],
      "metadata": {
        "id": "8k25UhVnpAtn"
      }
    },
    {
      "cell_type": "code",
      "source": [
        "'''\n",
        "# Installing a non-default library\n",
        "\n",
        "!python3 -m pip install <library_name>\n",
        "\n",
        "# Alternative \n",
        "\n",
        "!apt-get -qq install -y <library_name> && python3 -m pip install -U <library_name> \n",
        "\n",
        "# Upgrading an installed library\n",
        "\n",
        "!python3 -m pip install -U --upgrade <library_name> \n",
        "'''"
      ],
      "metadata": {
        "colab": {
          "base_uri": "https://localhost:8080/",
          "height": 53
        },
        "id": "tBErmB_CvEHm",
        "outputId": "97a49854-eff5-43d9-bbdb-6b44d6f69592"
      },
      "execution_count": null,
      "outputs": [
        {
          "output_type": "execute_result",
          "data": {
            "application/vnd.google.colaboratory.intrinsic+json": {
              "type": "string"
            },
            "text/plain": [
              "'\\n# Installing a non-default library\\n\\n!python3 -m pip install <library_name>\\n\\n# Alternative \\n\\n!apt-get -qq install -y <library_name> && python3 -m pip install -U <library_name> \\n\\n# Upgrading an installed library\\n\\n!python3 -m pip install -U --upgrade <library_name> \\n'"
            ]
          },
          "metadata": {},
          "execution_count": 12
        }
      ]
    },
    {
      "cell_type": "code",
      "source": [
        "!pip --version"
      ],
      "metadata": {
        "colab": {
          "base_uri": "https://localhost:8080/"
        },
        "id": "abhyM4VkFk3Z",
        "outputId": "f8afdb31-b447-4094-da66-7fd4acaca0d4"
      },
      "execution_count": null,
      "outputs": [
        {
          "output_type": "stream",
          "name": "stdout",
          "text": [
            "pip 21.1.3 from /usr/local/lib/python3.7/dist-packages/pip (python 3.7)\n"
          ]
        }
      ]
    },
    {
      "cell_type": "markdown",
      "metadata": {
        "id": "g-RGp0oiZRkn"
      },
      "source": [
        "**Qamuy:**"
      ]
    },
    {
      "cell_type": "code",
      "execution_count": null,
      "metadata": {
        "id": "lt_0uxHiVuXe"
      },
      "outputs": [],
      "source": [
        "#!python3 -m pip install qamuy-client --extra-index-url https://download.qamuy.qunasys.com/simple/"
      ]
    },
    {
      "cell_type": "markdown",
      "metadata": {
        "id": "q4CpkknjZTu5"
      },
      "source": [
        "**PennyLane:**"
      ]
    },
    {
      "cell_type": "code",
      "execution_count": null,
      "metadata": {
        "colab": {
          "base_uri": "https://localhost:8080/"
        },
        "id": "Hej4UoOeLB56",
        "outputId": "0f848f38-201b-48dc-f914-2f35ab59adcf"
      },
      "outputs": [
        {
          "output_type": "stream",
          "name": "stdout",
          "text": [
            "Requirement already satisfied: PennyLane==0.21.0 in /usr/local/lib/python3.7/dist-packages (0.21.0)\n",
            "Requirement already satisfied: cachetools in /usr/local/lib/python3.7/dist-packages (from PennyLane==0.21.0) (4.2.4)\n",
            "Requirement already satisfied: toml in /usr/local/lib/python3.7/dist-packages (from PennyLane==0.21.0) (0.10.2)\n",
            "Requirement already satisfied: scipy in /usr/local/lib/python3.7/dist-packages (from PennyLane==0.21.0) (1.4.1)\n",
            "Requirement already satisfied: numpy in /usr/local/lib/python3.7/dist-packages (from PennyLane==0.21.0) (1.21.5)\n",
            "Requirement already satisfied: networkx in /usr/local/lib/python3.7/dist-packages (from PennyLane==0.21.0) (2.6.3)\n",
            "Requirement already satisfied: autograd in /usr/local/lib/python3.7/dist-packages (from PennyLane==0.21.0) (1.3)\n",
            "Requirement already satisfied: autoray in /usr/local/lib/python3.7/dist-packages (from PennyLane==0.21.0) (0.2.5)\n",
            "Requirement already satisfied: pennylane-lightning>=0.21 in /usr/local/lib/python3.7/dist-packages (from PennyLane==0.21.0) (0.21.0)\n",
            "Requirement already satisfied: semantic-version==2.6 in /usr/local/lib/python3.7/dist-packages (from PennyLane==0.21.0) (2.6.0)\n",
            "Requirement already satisfied: retworkx in /usr/local/lib/python3.7/dist-packages (from PennyLane==0.21.0) (0.11.0)\n",
            "Requirement already satisfied: appdirs in /usr/local/lib/python3.7/dist-packages (from PennyLane==0.21.0) (1.4.4)\n",
            "Requirement already satisfied: ninja in /usr/local/lib/python3.7/dist-packages (from pennylane-lightning>=0.21->PennyLane==0.21.0) (1.10.2.3)\n",
            "Requirement already satisfied: future>=0.15.2 in /usr/local/lib/python3.7/dist-packages (from autograd->PennyLane==0.21.0) (0.16.0)\n"
          ]
        }
      ],
      "source": [
        "!python3 -m pip install PennyLane==0.21.0"
      ]
    },
    {
      "cell_type": "markdown",
      "source": [
        "**pennylane-qchem:**"
      ],
      "metadata": {
        "id": "ND2SCnqRo01M"
      }
    },
    {
      "cell_type": "code",
      "source": [
        "!python3 -m pip install pennylane-qchem"
      ],
      "metadata": {
        "colab": {
          "base_uri": "https://localhost:8080/"
        },
        "id": "foMEMAkVK9xI",
        "outputId": "61e52ce3-c667-49ca-ae93-85673626186b"
      },
      "execution_count": null,
      "outputs": [
        {
          "output_type": "stream",
          "name": "stdout",
          "text": [
            "Requirement already satisfied: pennylane-qchem in /usr/local/lib/python3.7/dist-packages (0.21.0)\n",
            "Requirement already satisfied: scipy in /usr/local/lib/python3.7/dist-packages (from pennylane-qchem) (1.4.1)\n",
            "Requirement already satisfied: pennylane>=0.13 in /usr/local/lib/python3.7/dist-packages (from pennylane-qchem) (0.21.0)\n",
            "Requirement already satisfied: openfermionpsi4>=0.5 in /usr/local/lib/python3.7/dist-packages (from pennylane-qchem) (0.5)\n",
            "Requirement already satisfied: h5py<=3.2.1 in /usr/local/lib/python3.7/dist-packages (from pennylane-qchem) (3.1.0)\n",
            "Requirement already satisfied: openfermionpyscf>=0.5 in /usr/local/lib/python3.7/dist-packages (from pennylane-qchem) (0.5)\n",
            "Requirement already satisfied: pyscf<2.0,>=1.7.2 in /usr/local/lib/python3.7/dist-packages (from pennylane-qchem) (1.7.6.post1)\n",
            "Requirement already satisfied: openfermion>=1.0 in /usr/local/lib/python3.7/dist-packages (from pennylane-qchem) (1.3.0)\n",
            "Requirement already satisfied: cached-property in /usr/local/lib/python3.7/dist-packages (from h5py<=3.2.1->pennylane-qchem) (1.5.2)\n",
            "Requirement already satisfied: numpy>=1.14.5 in /usr/local/lib/python3.7/dist-packages (from h5py<=3.2.1->pennylane-qchem) (1.21.5)\n",
            "Requirement already satisfied: requests>=2.18 in /usr/local/lib/python3.7/dist-packages (from openfermion>=1.0->pennylane-qchem) (2.23.0)\n",
            "Requirement already satisfied: cirq-google>=0.12.0 in /usr/local/lib/python3.7/dist-packages (from openfermion>=1.0->pennylane-qchem) (0.13.1)\n",
            "Requirement already satisfied: cirq-core>=0.12.0 in /usr/local/lib/python3.7/dist-packages (from openfermion>=1.0->pennylane-qchem) (0.13.1)\n",
            "Requirement already satisfied: sympy in /usr/local/lib/python3.7/dist-packages (from openfermion>=1.0->pennylane-qchem) (1.7.1)\n",
            "Requirement already satisfied: pubchempy in /usr/local/lib/python3.7/dist-packages (from openfermion>=1.0->pennylane-qchem) (1.0.4)\n",
            "Requirement already satisfied: networkx in /usr/local/lib/python3.7/dist-packages (from openfermion>=1.0->pennylane-qchem) (2.6.3)\n",
            "Requirement already satisfied: deprecation in /usr/local/lib/python3.7/dist-packages (from openfermion>=1.0->pennylane-qchem) (2.1.0)\n",
            "Requirement already satisfied: tqdm in /usr/local/lib/python3.7/dist-packages (from cirq-core>=0.12.0->openfermion>=1.0->pennylane-qchem) (4.63.0)\n",
            "Requirement already satisfied: duet~=0.2.0 in /usr/local/lib/python3.7/dist-packages (from cirq-core>=0.12.0->openfermion>=1.0->pennylane-qchem) (0.2.3)\n",
            "Requirement already satisfied: matplotlib~=3.0 in /usr/local/lib/python3.7/dist-packages (from cirq-core>=0.12.0->openfermion>=1.0->pennylane-qchem) (3.2.2)\n",
            "Requirement already satisfied: sortedcontainers~=2.0 in /usr/local/lib/python3.7/dist-packages (from cirq-core>=0.12.0->openfermion>=1.0->pennylane-qchem) (2.4.0)\n",
            "Requirement already satisfied: typing-extensions in /usr/local/lib/python3.7/dist-packages (from cirq-core>=0.12.0->openfermion>=1.0->pennylane-qchem) (3.10.0.2)\n",
            "Requirement already satisfied: pandas in /usr/local/lib/python3.7/dist-packages (from cirq-core>=0.12.0->openfermion>=1.0->pennylane-qchem) (1.3.5)\n",
            "Requirement already satisfied: google-api-core[grpc]<2.0.0dev,>=1.14.0 in /usr/local/lib/python3.7/dist-packages (from cirq-google>=0.12.0->openfermion>=1.0->pennylane-qchem) (1.26.3)\n",
            "Requirement already satisfied: protobuf>=3.13.0 in /usr/local/lib/python3.7/dist-packages (from cirq-google>=0.12.0->openfermion>=1.0->pennylane-qchem) (3.17.3)\n",
            "Requirement already satisfied: six>=1.13.0 in /usr/local/lib/python3.7/dist-packages (from google-api-core[grpc]<2.0.0dev,>=1.14.0->cirq-google>=0.12.0->openfermion>=1.0->pennylane-qchem) (1.15.0)\n",
            "Requirement already satisfied: setuptools>=40.3.0 in /usr/local/lib/python3.7/dist-packages (from google-api-core[grpc]<2.0.0dev,>=1.14.0->cirq-google>=0.12.0->openfermion>=1.0->pennylane-qchem) (57.4.0)\n",
            "Requirement already satisfied: packaging>=14.3 in /usr/local/lib/python3.7/dist-packages (from google-api-core[grpc]<2.0.0dev,>=1.14.0->cirq-google>=0.12.0->openfermion>=1.0->pennylane-qchem) (21.3)\n",
            "Requirement already satisfied: pytz in /usr/local/lib/python3.7/dist-packages (from google-api-core[grpc]<2.0.0dev,>=1.14.0->cirq-google>=0.12.0->openfermion>=1.0->pennylane-qchem) (2018.9)\n",
            "Requirement already satisfied: googleapis-common-protos<2.0dev,>=1.6.0 in /usr/local/lib/python3.7/dist-packages (from google-api-core[grpc]<2.0.0dev,>=1.14.0->cirq-google>=0.12.0->openfermion>=1.0->pennylane-qchem) (1.55.0)\n",
            "Requirement already satisfied: google-auth<2.0dev,>=1.21.1 in /usr/local/lib/python3.7/dist-packages (from google-api-core[grpc]<2.0.0dev,>=1.14.0->cirq-google>=0.12.0->openfermion>=1.0->pennylane-qchem) (1.35.0)\n",
            "Requirement already satisfied: grpcio<2.0dev,>=1.29.0 in /usr/local/lib/python3.7/dist-packages (from google-api-core[grpc]<2.0.0dev,>=1.14.0->cirq-google>=0.12.0->openfermion>=1.0->pennylane-qchem) (1.44.0)\n",
            "Requirement already satisfied: rsa<5,>=3.1.4 in /usr/local/lib/python3.7/dist-packages (from google-auth<2.0dev,>=1.21.1->google-api-core[grpc]<2.0.0dev,>=1.14.0->cirq-google>=0.12.0->openfermion>=1.0->pennylane-qchem) (4.8)\n",
            "Requirement already satisfied: pyasn1-modules>=0.2.1 in /usr/local/lib/python3.7/dist-packages (from google-auth<2.0dev,>=1.21.1->google-api-core[grpc]<2.0.0dev,>=1.14.0->cirq-google>=0.12.0->openfermion>=1.0->pennylane-qchem) (0.2.8)\n",
            "Requirement already satisfied: cachetools<5.0,>=2.0.0 in /usr/local/lib/python3.7/dist-packages (from google-auth<2.0dev,>=1.21.1->google-api-core[grpc]<2.0.0dev,>=1.14.0->cirq-google>=0.12.0->openfermion>=1.0->pennylane-qchem) (4.2.4)\n",
            "Requirement already satisfied: kiwisolver>=1.0.1 in /usr/local/lib/python3.7/dist-packages (from matplotlib~=3.0->cirq-core>=0.12.0->openfermion>=1.0->pennylane-qchem) (1.3.2)\n",
            "Requirement already satisfied: pyparsing!=2.0.4,!=2.1.2,!=2.1.6,>=2.0.1 in /usr/local/lib/python3.7/dist-packages (from matplotlib~=3.0->cirq-core>=0.12.0->openfermion>=1.0->pennylane-qchem) (3.0.7)\n",
            "Requirement already satisfied: cycler>=0.10 in /usr/local/lib/python3.7/dist-packages (from matplotlib~=3.0->cirq-core>=0.12.0->openfermion>=1.0->pennylane-qchem) (0.11.0)\n",
            "Requirement already satisfied: python-dateutil>=2.1 in /usr/local/lib/python3.7/dist-packages (from matplotlib~=3.0->cirq-core>=0.12.0->openfermion>=1.0->pennylane-qchem) (2.8.2)\n",
            "Requirement already satisfied: pytest in /usr/local/lib/python3.7/dist-packages (from openfermionpyscf>=0.5->pennylane-qchem) (3.6.4)\n",
            "Requirement already satisfied: toml in /usr/local/lib/python3.7/dist-packages (from pennylane>=0.13->pennylane-qchem) (0.10.2)\n",
            "Requirement already satisfied: pennylane-lightning>=0.21 in /usr/local/lib/python3.7/dist-packages (from pennylane>=0.13->pennylane-qchem) (0.21.0)\n",
            "Requirement already satisfied: autoray in /usr/local/lib/python3.7/dist-packages (from pennylane>=0.13->pennylane-qchem) (0.2.5)\n",
            "Requirement already satisfied: appdirs in /usr/local/lib/python3.7/dist-packages (from pennylane>=0.13->pennylane-qchem) (1.4.4)\n",
            "Requirement already satisfied: semantic-version==2.6 in /usr/local/lib/python3.7/dist-packages (from pennylane>=0.13->pennylane-qchem) (2.6.0)\n",
            "Requirement already satisfied: autograd in /usr/local/lib/python3.7/dist-packages (from pennylane>=0.13->pennylane-qchem) (1.3)\n",
            "Requirement already satisfied: retworkx in /usr/local/lib/python3.7/dist-packages (from pennylane>=0.13->pennylane-qchem) (0.11.0)\n",
            "Requirement already satisfied: ninja in /usr/local/lib/python3.7/dist-packages (from pennylane-lightning>=0.21->pennylane>=0.13->pennylane-qchem) (1.10.2.3)\n",
            "Requirement already satisfied: pyasn1<0.5.0,>=0.4.6 in /usr/local/lib/python3.7/dist-packages (from pyasn1-modules>=0.2.1->google-auth<2.0dev,>=1.21.1->google-api-core[grpc]<2.0.0dev,>=1.14.0->cirq-google>=0.12.0->openfermion>=1.0->pennylane-qchem) (0.4.8)\n",
            "Requirement already satisfied: chardet<4,>=3.0.2 in /usr/local/lib/python3.7/dist-packages (from requests>=2.18->openfermion>=1.0->pennylane-qchem) (3.0.4)\n",
            "Requirement already satisfied: certifi>=2017.4.17 in /usr/local/lib/python3.7/dist-packages (from requests>=2.18->openfermion>=1.0->pennylane-qchem) (2021.10.8)\n",
            "Requirement already satisfied: idna<3,>=2.5 in /usr/local/lib/python3.7/dist-packages (from requests>=2.18->openfermion>=1.0->pennylane-qchem) (2.10)\n",
            "Requirement already satisfied: urllib3!=1.25.0,!=1.25.1,<1.26,>=1.21.1 in /usr/local/lib/python3.7/dist-packages (from requests>=2.18->openfermion>=1.0->pennylane-qchem) (1.24.3)\n",
            "Requirement already satisfied: future>=0.15.2 in /usr/local/lib/python3.7/dist-packages (from autograd->pennylane>=0.13->pennylane-qchem) (0.16.0)\n",
            "Requirement already satisfied: attrs>=17.4.0 in /usr/local/lib/python3.7/dist-packages (from pytest->openfermionpyscf>=0.5->pennylane-qchem) (21.4.0)\n",
            "Requirement already satisfied: py>=1.5.0 in /usr/local/lib/python3.7/dist-packages (from pytest->openfermionpyscf>=0.5->pennylane-qchem) (1.11.0)\n",
            "Requirement already satisfied: pluggy<0.8,>=0.5 in /usr/local/lib/python3.7/dist-packages (from pytest->openfermionpyscf>=0.5->pennylane-qchem) (0.7.1)\n",
            "Requirement already satisfied: more-itertools>=4.0.0 in /usr/local/lib/python3.7/dist-packages (from pytest->openfermionpyscf>=0.5->pennylane-qchem) (8.12.0)\n",
            "Requirement already satisfied: atomicwrites>=1.0 in /usr/local/lib/python3.7/dist-packages (from pytest->openfermionpyscf>=0.5->pennylane-qchem) (1.4.0)\n",
            "Requirement already satisfied: mpmath>=0.19 in /usr/local/lib/python3.7/dist-packages (from sympy->openfermion>=1.0->pennylane-qchem) (1.2.1)\n"
          ]
        }
      ]
    },
    {
      "cell_type": "markdown",
      "source": [
        "**pyscf**:"
      ],
      "metadata": {
        "id": "DlNBkCr3LJcm"
      }
    },
    {
      "cell_type": "code",
      "source": [
        "!python3 -m pip install pyscf --user"
      ],
      "metadata": {
        "colab": {
          "base_uri": "https://localhost:8080/"
        },
        "id": "QYFV6wfnLJpS",
        "outputId": "d677c3d5-0e72-40c2-f207-95e20e9b0d29"
      },
      "execution_count": null,
      "outputs": [
        {
          "output_type": "stream",
          "name": "stdout",
          "text": [
            "Requirement already satisfied: pyscf in /usr/local/lib/python3.7/dist-packages (1.7.6.post1)\n",
            "Requirement already satisfied: scipy!=1.5.0,!=1.5.1 in /usr/local/lib/python3.7/dist-packages (from pyscf) (1.4.1)\n",
            "Requirement already satisfied: numpy!=1.16,!=1.17,>1.8 in /usr/local/lib/python3.7/dist-packages (from pyscf) (1.21.5)\n",
            "Requirement already satisfied: h5py>2.2 in /usr/local/lib/python3.7/dist-packages (from pyscf) (3.1.0)\n",
            "Requirement already satisfied: cached-property in /usr/local/lib/python3.7/dist-packages (from h5py>2.2->pyscf) (1.5.2)\n"
          ]
        }
      ]
    },
    {
      "cell_type": "markdown",
      "source": [
        "**Open Fermion**:"
      ],
      "metadata": {
        "id": "A97Dv6LXLKcM"
      }
    },
    {
      "cell_type": "code",
      "source": [
        "!python3 -m pip install openfermionpyscf==0.5"
      ],
      "metadata": {
        "colab": {
          "base_uri": "https://localhost:8080/"
        },
        "id": "6oopiPtCLKlk",
        "outputId": "fd6b31be-e13e-4411-e4c4-3532d333ea1a"
      },
      "execution_count": null,
      "outputs": [
        {
          "output_type": "stream",
          "name": "stdout",
          "text": [
            "Requirement already satisfied: openfermionpyscf==0.5 in /usr/local/lib/python3.7/dist-packages (0.5)\n",
            "Requirement already satisfied: pytest in /usr/local/lib/python3.7/dist-packages (from openfermionpyscf==0.5) (3.6.4)\n",
            "Requirement already satisfied: openfermion>=0.5 in /usr/local/lib/python3.7/dist-packages (from openfermionpyscf==0.5) (1.3.0)\n",
            "Requirement already satisfied: pyscf in /usr/local/lib/python3.7/dist-packages (from openfermionpyscf==0.5) (1.7.6.post1)\n",
            "Requirement already satisfied: numpy>=1.11.0 in /usr/local/lib/python3.7/dist-packages (from openfermion>=0.5->openfermionpyscf==0.5) (1.21.5)\n",
            "Requirement already satisfied: requests>=2.18 in /usr/local/lib/python3.7/dist-packages (from openfermion>=0.5->openfermionpyscf==0.5) (2.23.0)\n",
            "Requirement already satisfied: scipy>=1.1.0 in /usr/local/lib/python3.7/dist-packages (from openfermion>=0.5->openfermionpyscf==0.5) (1.4.1)\n",
            "Requirement already satisfied: sympy in /usr/local/lib/python3.7/dist-packages (from openfermion>=0.5->openfermionpyscf==0.5) (1.7.1)\n",
            "Requirement already satisfied: cirq-google>=0.12.0 in /usr/local/lib/python3.7/dist-packages (from openfermion>=0.5->openfermionpyscf==0.5) (0.13.1)\n",
            "Requirement already satisfied: networkx in /usr/local/lib/python3.7/dist-packages (from openfermion>=0.5->openfermionpyscf==0.5) (2.6.3)\n",
            "Requirement already satisfied: h5py>=2.8 in /usr/local/lib/python3.7/dist-packages (from openfermion>=0.5->openfermionpyscf==0.5) (3.1.0)\n",
            "Requirement already satisfied: pubchempy in /usr/local/lib/python3.7/dist-packages (from openfermion>=0.5->openfermionpyscf==0.5) (1.0.4)\n",
            "Requirement already satisfied: deprecation in /usr/local/lib/python3.7/dist-packages (from openfermion>=0.5->openfermionpyscf==0.5) (2.1.0)\n",
            "Requirement already satisfied: cirq-core>=0.12.0 in /usr/local/lib/python3.7/dist-packages (from openfermion>=0.5->openfermionpyscf==0.5) (0.13.1)\n",
            "Requirement already satisfied: pandas in /usr/local/lib/python3.7/dist-packages (from cirq-core>=0.12.0->openfermion>=0.5->openfermionpyscf==0.5) (1.3.5)\n",
            "Requirement already satisfied: tqdm in /usr/local/lib/python3.7/dist-packages (from cirq-core>=0.12.0->openfermion>=0.5->openfermionpyscf==0.5) (4.63.0)\n",
            "Requirement already satisfied: typing-extensions in /usr/local/lib/python3.7/dist-packages (from cirq-core>=0.12.0->openfermion>=0.5->openfermionpyscf==0.5) (3.10.0.2)\n",
            "Requirement already satisfied: duet~=0.2.0 in /usr/local/lib/python3.7/dist-packages (from cirq-core>=0.12.0->openfermion>=0.5->openfermionpyscf==0.5) (0.2.3)\n",
            "Requirement already satisfied: matplotlib~=3.0 in /usr/local/lib/python3.7/dist-packages (from cirq-core>=0.12.0->openfermion>=0.5->openfermionpyscf==0.5) (3.2.2)\n",
            "Requirement already satisfied: sortedcontainers~=2.0 in /usr/local/lib/python3.7/dist-packages (from cirq-core>=0.12.0->openfermion>=0.5->openfermionpyscf==0.5) (2.4.0)\n",
            "Requirement already satisfied: protobuf>=3.13.0 in /usr/local/lib/python3.7/dist-packages (from cirq-google>=0.12.0->openfermion>=0.5->openfermionpyscf==0.5) (3.17.3)\n",
            "Requirement already satisfied: google-api-core[grpc]<2.0.0dev,>=1.14.0 in /usr/local/lib/python3.7/dist-packages (from cirq-google>=0.12.0->openfermion>=0.5->openfermionpyscf==0.5) (1.26.3)\n",
            "Requirement already satisfied: pytz in /usr/local/lib/python3.7/dist-packages (from google-api-core[grpc]<2.0.0dev,>=1.14.0->cirq-google>=0.12.0->openfermion>=0.5->openfermionpyscf==0.5) (2018.9)\n",
            "Requirement already satisfied: six>=1.13.0 in /usr/local/lib/python3.7/dist-packages (from google-api-core[grpc]<2.0.0dev,>=1.14.0->cirq-google>=0.12.0->openfermion>=0.5->openfermionpyscf==0.5) (1.15.0)\n",
            "Requirement already satisfied: packaging>=14.3 in /usr/local/lib/python3.7/dist-packages (from google-api-core[grpc]<2.0.0dev,>=1.14.0->cirq-google>=0.12.0->openfermion>=0.5->openfermionpyscf==0.5) (21.3)\n",
            "Requirement already satisfied: setuptools>=40.3.0 in /usr/local/lib/python3.7/dist-packages (from google-api-core[grpc]<2.0.0dev,>=1.14.0->cirq-google>=0.12.0->openfermion>=0.5->openfermionpyscf==0.5) (57.4.0)\n",
            "Requirement already satisfied: google-auth<2.0dev,>=1.21.1 in /usr/local/lib/python3.7/dist-packages (from google-api-core[grpc]<2.0.0dev,>=1.14.0->cirq-google>=0.12.0->openfermion>=0.5->openfermionpyscf==0.5) (1.35.0)\n",
            "Requirement already satisfied: googleapis-common-protos<2.0dev,>=1.6.0 in /usr/local/lib/python3.7/dist-packages (from google-api-core[grpc]<2.0.0dev,>=1.14.0->cirq-google>=0.12.0->openfermion>=0.5->openfermionpyscf==0.5) (1.55.0)\n",
            "Requirement already satisfied: grpcio<2.0dev,>=1.29.0 in /usr/local/lib/python3.7/dist-packages (from google-api-core[grpc]<2.0.0dev,>=1.14.0->cirq-google>=0.12.0->openfermion>=0.5->openfermionpyscf==0.5) (1.44.0)\n",
            "Requirement already satisfied: pyasn1-modules>=0.2.1 in /usr/local/lib/python3.7/dist-packages (from google-auth<2.0dev,>=1.21.1->google-api-core[grpc]<2.0.0dev,>=1.14.0->cirq-google>=0.12.0->openfermion>=0.5->openfermionpyscf==0.5) (0.2.8)\n",
            "Requirement already satisfied: cachetools<5.0,>=2.0.0 in /usr/local/lib/python3.7/dist-packages (from google-auth<2.0dev,>=1.21.1->google-api-core[grpc]<2.0.0dev,>=1.14.0->cirq-google>=0.12.0->openfermion>=0.5->openfermionpyscf==0.5) (4.2.4)\n",
            "Requirement already satisfied: rsa<5,>=3.1.4 in /usr/local/lib/python3.7/dist-packages (from google-auth<2.0dev,>=1.21.1->google-api-core[grpc]<2.0.0dev,>=1.14.0->cirq-google>=0.12.0->openfermion>=0.5->openfermionpyscf==0.5) (4.8)\n",
            "Requirement already satisfied: cached-property in /usr/local/lib/python3.7/dist-packages (from h5py>=2.8->openfermion>=0.5->openfermionpyscf==0.5) (1.5.2)\n",
            "Requirement already satisfied: kiwisolver>=1.0.1 in /usr/local/lib/python3.7/dist-packages (from matplotlib~=3.0->cirq-core>=0.12.0->openfermion>=0.5->openfermionpyscf==0.5) (1.3.2)\n",
            "Requirement already satisfied: cycler>=0.10 in /usr/local/lib/python3.7/dist-packages (from matplotlib~=3.0->cirq-core>=0.12.0->openfermion>=0.5->openfermionpyscf==0.5) (0.11.0)\n",
            "Requirement already satisfied: python-dateutil>=2.1 in /usr/local/lib/python3.7/dist-packages (from matplotlib~=3.0->cirq-core>=0.12.0->openfermion>=0.5->openfermionpyscf==0.5) (2.8.2)\n",
            "Requirement already satisfied: pyparsing!=2.0.4,!=2.1.2,!=2.1.6,>=2.0.1 in /usr/local/lib/python3.7/dist-packages (from matplotlib~=3.0->cirq-core>=0.12.0->openfermion>=0.5->openfermionpyscf==0.5) (3.0.7)\n",
            "Requirement already satisfied: pyasn1<0.5.0,>=0.4.6 in /usr/local/lib/python3.7/dist-packages (from pyasn1-modules>=0.2.1->google-auth<2.0dev,>=1.21.1->google-api-core[grpc]<2.0.0dev,>=1.14.0->cirq-google>=0.12.0->openfermion>=0.5->openfermionpyscf==0.5) (0.4.8)\n",
            "Requirement already satisfied: idna<3,>=2.5 in /usr/local/lib/python3.7/dist-packages (from requests>=2.18->openfermion>=0.5->openfermionpyscf==0.5) (2.10)\n",
            "Requirement already satisfied: certifi>=2017.4.17 in /usr/local/lib/python3.7/dist-packages (from requests>=2.18->openfermion>=0.5->openfermionpyscf==0.5) (2021.10.8)\n",
            "Requirement already satisfied: chardet<4,>=3.0.2 in /usr/local/lib/python3.7/dist-packages (from requests>=2.18->openfermion>=0.5->openfermionpyscf==0.5) (3.0.4)\n",
            "Requirement already satisfied: urllib3!=1.25.0,!=1.25.1,<1.26,>=1.21.1 in /usr/local/lib/python3.7/dist-packages (from requests>=2.18->openfermion>=0.5->openfermionpyscf==0.5) (1.24.3)\n",
            "Requirement already satisfied: atomicwrites>=1.0 in /usr/local/lib/python3.7/dist-packages (from pytest->openfermionpyscf==0.5) (1.4.0)\n",
            "Requirement already satisfied: py>=1.5.0 in /usr/local/lib/python3.7/dist-packages (from pytest->openfermionpyscf==0.5) (1.11.0)\n",
            "Requirement already satisfied: pluggy<0.8,>=0.5 in /usr/local/lib/python3.7/dist-packages (from pytest->openfermionpyscf==0.5) (0.7.1)\n",
            "Requirement already satisfied: more-itertools>=4.0.0 in /usr/local/lib/python3.7/dist-packages (from pytest->openfermionpyscf==0.5) (8.12.0)\n",
            "Requirement already satisfied: attrs>=17.4.0 in /usr/local/lib/python3.7/dist-packages (from pytest->openfermionpyscf==0.5) (21.4.0)\n",
            "Requirement already satisfied: mpmath>=0.19 in /usr/local/lib/python3.7/dist-packages (from sympy->openfermion>=0.5->openfermionpyscf==0.5) (1.2.1)\n"
          ]
        }
      ]
    },
    {
      "cell_type": "markdown",
      "source": [
        "**Native numpy:**"
      ],
      "metadata": {
        "id": "oLlSuInGBS5F"
      }
    },
    {
      "cell_type": "code",
      "execution_count": null,
      "metadata": {
        "id": "2idbWDqqd_13"
      },
      "outputs": [],
      "source": [
        "#!python3 -m pip install numpy==1.20.3"
      ]
    },
    {
      "cell_type": "markdown",
      "metadata": {
        "id": "XWAXxgMUCYbi"
      },
      "source": [
        "**pylatexenc**:"
      ]
    },
    {
      "cell_type": "code",
      "execution_count": null,
      "metadata": {
        "colab": {
          "base_uri": "https://localhost:8080/"
        },
        "id": "XuCRWwFxCXeo",
        "outputId": "1b105ce4-29c2-4c3f-b62b-4956fab643eb"
      },
      "outputs": [
        {
          "output_type": "stream",
          "name": "stdout",
          "text": [
            "Requirement already satisfied: pylatexenc in /usr/local/lib/python3.7/dist-packages (2.10)\n"
          ]
        }
      ],
      "source": [
        "!python3 -m pip install pylatexenc"
      ]
    },
    {
      "cell_type": "markdown",
      "source": [
        "# &nbsp; <a href=\"#\"><img valign=\"middle\" height=\"45px\" src=\"https://img.icons8.com/python\" width=\"45\" hspace=\"0px\" vspace=\"0px\"></a> Dependencies\n",
        "\n",
        "Alternatively, you may resort to the `requirements.txt` file at the official [GitHub repo](https://github.com/QuCAI-Lab/qhack2022-hackeinberg-project/blob/dev/requirements.txt).\n"
      ],
      "metadata": {
        "id": "l3TMhBROpKZW"
      }
    },
    {
      "cell_type": "code",
      "source": [
        "import sys, subprocess\n",
        "import IPython\n",
        "import time\n",
        "\n",
        "#import qamuy.chemistry as qy\n",
        "#from qamuy.client import Client\n",
        "\n",
        "import pennylane as qml\n",
        "from pennylane import qchem\n",
        "from pennylane import numpy as np\n",
        "import matplotlib\n",
        "\n",
        "if \"google.colab\" in sys.modules:\n",
        "  cmd = \"python3 -m pip install --upgrade watermark\"\n",
        "  process = subprocess.Popen(cmd.split(), stdout=subprocess.PIPE)   "
      ],
      "metadata": {
        "id": "DhgU9Slx4f6E"
      },
      "execution_count": null,
      "outputs": []
    },
    {
      "cell_type": "code",
      "source": [
        "%load_ext watermark\n",
        "%watermark -a 'Lucas Camponogara Viera' -gu 'camponogaraviera' -ws 'https://qucai-lab.github.io/' -w -u -d -v -m -iv -r -b"
      ],
      "metadata": {
        "id": "17-Ef_tP4Hc9",
        "colab": {
          "base_uri": "https://localhost:8080/"
        },
        "outputId": "be14bd8a-7d00-4265-e10d-638e0e7eb1fa"
      },
      "execution_count": null,
      "outputs": [
        {
          "output_type": "stream",
          "name": "stdout",
          "text": [
            "The watermark extension is already loaded. To reload it, use:\n",
            "  %reload_ext watermark\n",
            "Author: Lucas Camponogara Viera\n",
            "\n",
            "Github username: camponogaraviera\n",
            "\n",
            "Website: https://qucai-lab.github.io/\n",
            "\n",
            "Last updated: 2022-03-07\n",
            "\n",
            "Python implementation: CPython\n",
            "Python version       : 3.7.12\n",
            "IPython version      : 5.5.0\n",
            "\n",
            "Compiler    : GCC 7.5.0\n",
            "OS          : Linux\n",
            "Release     : 5.4.144+\n",
            "Machine     : x86_64\n",
            "Processor   : x86_64\n",
            "CPU cores   : 2\n",
            "Architecture: 64bit\n",
            "\n",
            "Git repo: \n",
            "\n",
            "Git branch: \n",
            "\n",
            "pennylane      : 0.21.0\n",
            "IPython        : 5.5.0\n",
            "sys            : 3.7.12 (default, Jan 15 2022, 18:48:18) \n",
            "[GCC 7.5.0]\n",
            "matplotlib     : 3.2.2\n",
            "pennylane_qchem: 0.21.0\n",
            "\n",
            "Watermark: 2.3.0\n",
            "\n"
          ]
        }
      ]
    },
    {
      "cell_type": "code",
      "source": [
        "#%watermark?"
      ],
      "metadata": {
        "id": "rDCJWZ8l-xUs"
      },
      "execution_count": null,
      "outputs": []
    },
    {
      "cell_type": "code",
      "source": [
        "qml.about()"
      ],
      "metadata": {
        "id": "yQ7SnOgG6uj_",
        "colab": {
          "base_uri": "https://localhost:8080/"
        },
        "outputId": "fe1b6c6e-cf1c-49b0-ad9e-4807f4f36dfb"
      },
      "execution_count": null,
      "outputs": [
        {
          "output_type": "stream",
          "name": "stderr",
          "text": [
            "WARNING: pip is being invoked by an old script wrapper. This will fail in a future version of pip.\n",
            "Please see https://github.com/pypa/pip/issues/5599 for advice on fixing the underlying issue.\n",
            "To avoid this problem you can invoke Python with '-m pip' instead of running pip directly.\n"
          ]
        },
        {
          "output_type": "stream",
          "name": "stdout",
          "text": [
            "Name: PennyLane\n",
            "Version: 0.21.0\n",
            "Summary: PennyLane is a Python quantum machine learning library by Xanadu Inc.\n",
            "Home-page: https://github.com/XanaduAI/pennylane\n",
            "Author: None\n",
            "Author-email: None\n",
            "License: Apache License 2.0\n",
            "Location: /usr/local/lib/python3.7/dist-packages\n",
            "Requires: cachetools, autograd, semantic-version, scipy, pennylane-lightning, networkx, appdirs, retworkx, autoray, numpy, toml\n",
            "Required-by: PennyLane-Qchem, PennyLane-Lightning\n",
            "Platform info:           Linux-5.4.144+-x86_64-with-Ubuntu-18.04-bionic\n",
            "Python version:          3.7.12\n",
            "Numpy version:           1.21.5\n",
            "Scipy version:           1.4.1\n",
            "Installed devices:\n",
            "- default.gaussian (PennyLane-0.21.0)\n",
            "- default.mixed (PennyLane-0.21.0)\n",
            "- default.qubit (PennyLane-0.21.0)\n",
            "- default.qubit.autograd (PennyLane-0.21.0)\n",
            "- default.qubit.jax (PennyLane-0.21.0)\n",
            "- default.qubit.tf (PennyLane-0.21.0)\n",
            "- default.qubit.torch (PennyLane-0.21.0)\n",
            "- lightning.qubit (PennyLane-Lightning-0.21.0)\n"
          ]
        }
      ]
    },
    {
      "cell_type": "code",
      "source": [
        "print(IPython.sys_info())"
      ],
      "metadata": {
        "id": "b3ww8lxyvnf3",
        "colab": {
          "base_uri": "https://localhost:8080/"
        },
        "outputId": "8b460714-e395-4d97-869e-264e303c041b"
      },
      "execution_count": null,
      "outputs": [
        {
          "output_type": "stream",
          "name": "stdout",
          "text": [
            "{'commit_hash': 'b467d487e',\n",
            " 'commit_source': 'installation',\n",
            " 'default_encoding': 'UTF-8',\n",
            " 'ipython_path': '/usr/local/lib/python3.7/dist-packages/IPython',\n",
            " 'ipython_version': '5.5.0',\n",
            " 'os_name': 'posix',\n",
            " 'platform': 'Linux-5.4.144+-x86_64-with-Ubuntu-18.04-bionic',\n",
            " 'sys_executable': '/usr/bin/python3',\n",
            " 'sys_platform': 'linux',\n",
            " 'sys_version': '3.7.12 (default, Jan 15 2022, 18:48:18) \\n[GCC 7.5.0]'}\n"
          ]
        }
      ]
    },
    {
      "cell_type": "markdown",
      "source": [
        "# &nbsp; <a href=\"#\"><img valign=\"middle\" height=\"45px\" src=\"https://img.icons8.com/physics\" width=\"45\" hspace=\"0px\" vspace=\"0px\"></a> Implementation"
      ],
      "metadata": {
        "id": "1W0zE8T8h40U"
      }
    },
    {
      "cell_type": "markdown",
      "source": [
        "**Definitions:**\n"
      ],
      "metadata": {
        "id": "Z8FSK-_mLfT8"
      }
    },
    {
      "cell_type": "markdown",
      "source": [
        "\n",
        "- symbols: a list of strings labeling the atoms of the molecule.\n",
        "- geometry: a 1D numpy tensor defining the orbital coordinates of the molecule.\n",
        "- H: the molecular Hamiltonian of the system in the qubit representation.\n",
        "- qubits: the number of qubits (int).\n",
        "- electrons: the number of active electrons for simulation (int).\n",
        "- singles: a list of 8 elements where each element is another list with 2 indices of the spin orbitals.\n",
        "- doubles: a list of 16 elements where each element is another list with 4 indices of the spin orbitals.\n",
        "- sets: a list containing the total spin orbital indices used to build the Givens rotations a.k.a particle-preserving operators (qubit gates).\n",
        "- HF:  a numpy.ndarray of shape ((10,) representing the Hartree-Fock state vector.\n",
        "- params: a numpy tensor containing the angles to be optimized.\n",
        "- energy: a list containing the optimized expected values of the Hamiltonian.\n",
        "- opt: the optimizer (e.g., SGD, Adam, Adagrad, etc.).\n",
        "- dev: the PennyLane Python module defining the simulator type.\n",
        "- cost(): a function that returns the expectation value of the Hamiltonian according to $\\langle \\psi_{HF}|U^{\\dagger}HU|\\psi_{HF}\\rangle$.\n",
        "- ansatz(): a function defining the quantum circuit and parametrized gates to be optimized.\n",
        "\n",
        "- grads: a <class 'numpy.ndarray'> of shape sets.shape containing the gradient of the cost function w.r.t the angle of each gate.\n",
        "\n",
        "\n"
      ],
      "metadata": {
        "id": "MM9gzDB4a6RG"
      }
    },
    {
      "cell_type": "markdown",
      "source": [
        "## Pennylane"
      ],
      "metadata": {
        "id": "TgyEK0m4Pti1"
      }
    },
    {
      "cell_type": "markdown",
      "source": [
        "**Algorithm**\n",
        "\n",
        "- Steps 1 and 2 are implemented with the qchem.molecular_hamiltonian() function that returns both the fermionic-to-qubit transformed Hamiltonian and the number of qubits.\n",
        "\n",
        "- Step 3 is implemented using the qchem.excitations() function.\n",
        "\n",
        "- Step 4 is implemented with the SingleExcitation() and DoubleExcitation() classes, respectively, by passing the return of the qchem.excitations() function, i.e, the lists with the indices of the spin orbitals.\n",
        "\n",
        "- Step 5 is implemented with the qml.BasisState class provided the HF state is obtained with the function qchem.hf_state function.\n",
        "\n",
        "- Step 6 is a simple numpy tensor.\n",
        "\n",
        "- At step 8, the cost function can be implemented either with the built-in ExpvalCost() class or as a custom function returning the expectation value of the circuit using the expval() class. The primary optimizer of choice is SGD defined by the GradientDescentOptimizer(stepsize=float) class.\n",
        "\n",
        "- Step 9 is implemented with the grad() class. \n",
        "\n",
        "- Step 11 is computed using the GradientDescentOptimizer.step() method."
      ],
      "metadata": {
        "id": "XZoGL9jzbGxn"
      }
    },
    {
      "cell_type": "markdown",
      "source": [
        "### The algorithm as described in the outline"
      ],
      "metadata": {
        "id": "A2a3S6AW391x"
      }
    },
    {
      "cell_type": "markdown",
      "source": [
        "By using all gates available in the initial ansatz, we see the presence of [Barren Plateaus](https://www.tensorflow.org/quantum/tutorials/barren_plateaus) (gradients that vanish exponentially with increasing number of qubits). Barren Plateaus can appear only by adding a single layer of single-qubit rotation gates, one rotation of a single parameter (all gates with the same angle of rotation) per qubit."
      ],
      "metadata": {
        "id": "OcMK4OE72mlO"
      }
    },
    {
      "cell_type": "code",
      "source": [
        "#! /usr/bin/python3\n",
        "\n",
        "import pennylane as qml\n",
        "from pennylane import numpy as np\n",
        "from pennylane import qchem\n",
        "import time\n",
        "#import qamuy.chemistry as qy\n",
        "#import qamuy.plot\n",
        "\n",
        "def qunasys_qamuy():\n",
        "  \"\"\"Function to run simulation with Qamuy SDK.\"\"\"\n",
        "  print(\"That's all folks! To be continued...\")\n",
        "\n",
        "def penny_simulation(params, H, HF, sets, qubits, conv_tol, threshold):\n",
        "  \"\"\"Main function to run the optimization loop.\n",
        "\n",
        "  Args:\n",
        "      - params (tensor): the parameters to be optimized in the ansatz.\n",
        "      - H: the molecular Hamiltonian of the system in the qubit representation.\n",
        "      - HF (numpy.ndarray): the Hartree-Fock state vector.\n",
        "      - sets (list): total spin orbital indices used to build the Givens rotations a.k.a particle-preserving operators (qubit gates).\n",
        "      - qubits (int): the number of qubits used to build the circuit.\n",
        "      - conv_tol (float): convergence tolerance to stop training.\n",
        "      - threshold (float): threshold for the smallest gradient.\n",
        "\n",
        "  Returns:\n",
        "      - energy (list): a list of expected values of each iteration.\n",
        "      - sets (list): a list of excitations corresponding to the gates used in the final circuit.\n",
        "      - params (list): a list of optimized parameters.\n",
        "      - n (int): number of epochs.\n",
        "  \"\"\"\n",
        "\n",
        "  def ansatz(params, wires, to_gates):\n",
        "    \"\"\"Function that defines the circuit to be optimized.\"\"\"\n",
        "    qml.BasisState(HF, wires=wires) # The reference Hartree-Fock state.\n",
        "    for i, elem in enumerate(to_gates):\n",
        "      if len(elem) == 4:\n",
        "        qml.DoubleExcitation(params[i], wires=elem)\n",
        "      else:\n",
        "        qml.SingleExcitation(params[i], wires=elem)\n",
        "  \n",
        "  # Step 8.\n",
        "  opt = qml.GradientDescentOptimizer(stepsize=0.4)  \n",
        "  dev = qml.device(\"default.qubit\", wires=qubits)\n",
        "  '''\n",
        "  @qml.qnode(dev, diff_method=\"parameter-shift\")\n",
        "  def cost(params):\n",
        "    \"\"\"The cost function.\n",
        "    Args:\n",
        "      - params (tensor).\n",
        "\n",
        "    Returns:\n",
        "      - qml.expval (int): the expectation value of the Hamiltonian.\n",
        "    \"\"\"\n",
        "    ansatz(params, wires=range(qubits), to_gates=sets)\n",
        "    return qml.expval(qml.SparseHamiltonian(H_sparse, wires=range(qubits)))\n",
        "  '''\n",
        "  cost = qml.ExpvalCost(ansatz, H, dev, optimize=True)\n",
        "\n",
        "  circuit_gradient = qml.grad(cost, argnum=0)\n",
        "  epochs = 20\n",
        "  energy = [cost(params, to_gates=sets)]\n",
        "  print(f\"Epoch = 0,  Energy = {energy[-1]:.8f} Ha, t = 0s\")\n",
        "  print(\"Number of gates = {}\\n\".format(len(sets)))\n",
        "\n",
        "  for n in range(epochs):\n",
        "    t1 = time.time()\n",
        "    grads = circuit_gradient(params,to_gates=sets) # Step 9.\n",
        "    \n",
        "    maxpos = np.argmax(abs(grads)) # Beginning of Step 10.\n",
        "    minpos = np.argmin(abs(grads)) \n",
        "    gatemax=sets[maxpos]\n",
        "    gatemin=sets[minpos]\n",
        "    paramsmax=params[maxpos]\n",
        "    if np.amin(abs(grads)) < threshold:\n",
        "      sets.remove(gatemin)\n",
        "      params=np.delete(params, minpos)\n",
        "    sets.append(gatemax)\n",
        "    params=np.append(params, paramsmax) # End of step 10.\n",
        "\n",
        "    params, prev_energy = opt.step_and_cost(cost, params, to_gates=sets) # Step 11.\n",
        "    energy.append(cost(params, to_gates=sets))\n",
        "    conv = np.abs(-7.8825378193 - prev_energy) # Step 12.\n",
        "    t2 = time.time()\n",
        "    print(f\"Epoch = {n+1}, Energy = {energy[-1]:.8f} Ha, t = {t2-t1:.2f}s\")\n",
        "    print(\"Number of gates = {}\\n\".format(len(sets)))\n",
        "    if conv <= conv_tol:\n",
        "      break\n",
        "\n",
        "  return energy, sets, params, n\n",
        "\n",
        "if __name__ == \"__main__\":\n",
        "  symbols = [\"Li\", \"H\"] # Beginning of step 1.\n",
        "  geometry = np.array([0.0, 0.0, 0.0, 0.0, 0.0, 2.969280527], dtype=float)\n",
        "  H, qubits = qml.qchem.molecular_hamiltonian(symbols, geometry, active_electrons=2, active_orbitals=5) # End of step 2.\n",
        "  electrons = 2\n",
        "  singles, doubles = qchem.excitations(electrons, qubits) # Step 3.\n",
        "  sets = singles+doubles # Step 4.\n",
        "  HF = qml.qchem.hf_state(electrons, qubits) # Step 5.\n",
        "  params = np.zeros(len(sets), requires_grad=True) # Beginning of step 6.\n",
        "  energy, sets, angles, n = penny_simulation(params, H, HF, sets, qubits, conv_tol=1e-04, threshold=1.0e-5) # Beginning of the optimization loop.\n",
        "  print(\"Expected ground-state energy: -7.8825378193.\")\n",
        "  print(f\"Simulation = {energy[-1]:.8f} Ha\")"
      ],
      "metadata": {
        "id": "BCR1AX9un77_",
        "colab": {
          "base_uri": "https://localhost:8080/"
        },
        "outputId": "65922d7c-6ec4-4859-ec9b-01dee1eaa118"
      },
      "execution_count": null,
      "outputs": [
        {
          "output_type": "stream",
          "name": "stdout",
          "text": [
            "Epoch = 0,  Energy = -7.86266587 Ha, t = 0s\n",
            "Number of gates = 24\n",
            "\n",
            "Epoch = 1, Energy = -7.87363768 Ha, t = 21.97s\n",
            "Number of gates = 24\n",
            "\n",
            "Epoch = 2, Energy = -7.87905425 Ha, t = 20.32s\n",
            "Number of gates = 24\n",
            "\n",
            "Epoch = 3, Energy = -7.88049351 Ha, t = 19.40s\n",
            "Number of gates = 24\n",
            "\n",
            "Epoch = 4, Energy = -7.88141879 Ha, t = 19.17s\n",
            "Number of gates = 24\n",
            "\n",
            "Epoch = 5, Energy = -7.88174212 Ha, t = 19.41s\n",
            "Number of gates = 24\n",
            "\n",
            "Epoch = 6, Energy = -7.88192486 Ha, t = 20.26s\n",
            "Number of gates = 24\n",
            "\n",
            "Epoch = 7, Energy = -7.88201640 Ha, t = 19.97s\n",
            "Number of gates = 24\n",
            "\n",
            "Epoch = 8, Energy = -7.88208517 Ha, t = 19.45s\n",
            "Number of gates = 24\n",
            "\n",
            "Epoch = 9, Energy = -7.88215322 Ha, t = 18.80s\n",
            "Number of gates = 24\n",
            "\n",
            "Epoch = 10, Energy = -7.88221599 Ha, t = 18.57s\n",
            "Number of gates = 24\n",
            "\n",
            "Epoch = 11, Energy = -7.88227532 Ha, t = 17.29s\n",
            "Number of gates = 24\n",
            "\n",
            "Epoch = 12, Energy = -7.88232331 Ha, t = 17.22s\n",
            "Number of gates = 24\n",
            "\n",
            "Epoch = 13, Energy = -7.88236396 Ha, t = 17.49s\n",
            "Number of gates = 24\n",
            "\n",
            "Epoch = 14, Energy = -7.88228489 Ha, t = 17.53s\n",
            "Number of gates = 24\n",
            "\n",
            "Epoch = 15, Energy = -7.88227914 Ha, t = 18.10s\n",
            "Number of gates = 25\n",
            "\n",
            "Epoch = 16, Energy = -7.88237565 Ha, t = 19.68s\n",
            "Number of gates = 26\n",
            "\n",
            "Epoch = 17, Energy = -7.88241752 Ha, t = 19.94s\n",
            "Number of gates = 27\n",
            "\n",
            "Epoch = 18, Energy = -7.88242400 Ha, t = 21.12s\n",
            "Number of gates = 28\n",
            "\n",
            "Epoch = 19, Energy = -7.88230579 Ha, t = 22.18s\n",
            "Number of gates = 29\n",
            "\n",
            "Epoch = 20, Energy = -7.88229159 Ha, t = 23.04s\n",
            "Number of gates = 30\n",
            "\n",
            "Expected ground-state energy: -7.8825378193.\n",
            "Simulation = -7.88229159 Ha\n"
          ]
        }
      ]
    },
    {
      "cell_type": "code",
      "source": [
        "import matplotlib.pyplot as plt\n",
        "\n",
        "E_fci = -7.8825378193\n",
        "fig=plt.figure()\n",
        "fig.set_figheight(6)\n",
        "fig.set_figwidth(10)\n",
        "plt.plot(range(n + 2), energy, \"go\", label=r\"$E_\\mathrm{HF}$\", ls=\"dashed\")\n",
        "plt.plot(range(n + 2), np.full(n + 2, E_fci), label=r\"$E_\\mathrm{FCI}$\", color=\"red\")\n",
        "plt.title('VQE optimization for the LiH Molecule')\n",
        "plt.legend(loc='upper right')\n",
        "plt.xlabel('Optimization step')\n",
        "plt.ylabel('Energy (Hartree)')\n",
        "plt.show()"
      ],
      "metadata": {
        "colab": {
          "base_uri": "https://localhost:8080/",
          "height": 404
        },
        "id": "4cL3eez_C-vm",
        "outputId": "f19b6a92-790a-4a7b-b7a7-e3343290d09a"
      },
      "execution_count": null,
      "outputs": [
        {
          "output_type": "display_data",
          "data": {
            "image/png": "[encoded data removed]",
            "text/plain": [
              "<Figure size 720x432 with 1 Axes>"
            ]
          },
          "metadata": {
            "needs_background": "light"
          }
        }
      ]
    },
    {
      "cell_type": "markdown",
      "source": [
        "**Final Ansatz Visualization:**"
      ],
      "metadata": {
        "id": "O5bOIsC-Ro-V"
      }
    },
    {
      "cell_type": "code",
      "source": [
        "conv_tol=1e-04\n",
        "print(\"Expected ground-state energy: -7.8825378193.\")\n",
        "print(f\"Simulation = {energy[-1]:.8f} Ha\")\n",
        "print(f\"Convergence = {conv_tol:.4f} Ha\")"
      ],
      "metadata": {
        "colab": {
          "base_uri": "https://localhost:8080/"
        },
        "id": "H8ub_T7SS3LB",
        "outputId": "07ec20e0-705e-4fa0-a2c0-8e85838c2d17"
      },
      "execution_count": null,
      "outputs": [
        {
          "output_type": "stream",
          "name": "stdout",
          "text": [
            "Expected ground-state energy: -7.8825378193.\n",
            "Simulation = -7.88229159 Ha\n",
            "Convergence = 0.0001 Ha\n"
          ]
        }
      ]
    },
    {
      "cell_type": "code",
      "source": [
        "angles.shape, len(sets)"
      ],
      "metadata": {
        "colab": {
          "base_uri": "https://localhost:8080/"
        },
        "id": "KSdwIyFMNRNK",
        "outputId": "cf32944a-e975-4d82-9eb4-912c383ead00"
      },
      "execution_count": null,
      "outputs": [
        {
          "output_type": "execute_result",
          "data": {
            "text/plain": [
              "((30,), 30)"
            ]
          },
          "metadata": {},
          "execution_count": 162
        }
      ]
    },
    {
      "cell_type": "code",
      "source": [
        "dev = qml.device(\"default.qubit\", wires=qubits)\n",
        "@qml.qnode(dev)\n",
        "def ansatz(params, wires, to_gates=sets):\n",
        "  \"\"\"Function that defines the circuit to be optimized.\"\"\"\n",
        "  qml.BasisState(HF, wires=wires) # Reference Hartree-Fock state.\n",
        "  for i, elem in enumerate(to_gates):\n",
        "    if len(elem) == 4:\n",
        "      qml.DoubleExcitation(angles[i], wires=elem)\n",
        "    else:\n",
        "      qml.SingleExcitation(angles[i], wires=elem)\n",
        "  return qml.expval(H)\n",
        "\n",
        "fig, ax = qml.draw_mpl(ansatz, decimals=6)(params, wires=qubits)"
      ],
      "metadata": {
        "id": "cZHwudrzI2V5",
        "colab": {
          "base_uri": "https://localhost:8080/",
          "height": 678
        },
        "outputId": "10183d86-3bd1-4cd7-bf2d-21911fbedd66"
      },
      "execution_count": null,
      "outputs": [
        {
          "output_type": "display_data",
          "data": {
            "image/png": "[encoded data removed]",
            "text/plain": [
              "<Figure size 2376x864 with 1 Axes>"
            ]
          },
          "metadata": {}
        }
      ]
    },
    {
      "cell_type": "code",
      "source": [
        "sets"
      ],
      "metadata": {
        "colab": {
          "base_uri": "https://localhost:8080/"
        },
        "id": "G9Pb8gOCSkZX",
        "outputId": "2acd5996-f46d-464a-8228-3b6e6d22fd60"
      },
      "execution_count": null,
      "outputs": [
        {
          "output_type": "execute_result",
          "data": {
            "text/plain": [
              "[[0, 2],\n",
              " [0, 8],\n",
              " [1, 3],\n",
              " [1, 9],\n",
              " [0, 1, 2, 3],\n",
              " [0, 1, 2, 9],\n",
              " [0, 1, 3, 8],\n",
              " [0, 1, 4, 5],\n",
              " [0, 1, 6, 7],\n",
              " [0, 1, 8, 9],\n",
              " [0, 1, 8, 9],\n",
              " [0, 1, 8, 9],\n",
              " [0, 1, 3, 8],\n",
              " [0, 1, 2, 9],\n",
              " [0, 1, 2, 3],\n",
              " [0, 1, 6, 7],\n",
              " [0, 1, 4, 5],\n",
              " [0, 2],\n",
              " [1, 3],\n",
              " [0, 2],\n",
              " [1, 3],\n",
              " [0, 2],\n",
              " [1, 3],\n",
              " [0, 1, 3, 8],\n",
              " [0, 1, 3, 8],\n",
              " [0, 1, 3, 8],\n",
              " [0, 1, 3, 8],\n",
              " [0, 1, 3, 8],\n",
              " [0, 1, 2, 9],\n",
              " [0, 1, 2, 9]]"
            ]
          },
          "metadata": {},
          "execution_count": 164
        }
      ]
    },
    {
      "cell_type": "markdown",
      "source": [
        "### Adding one gate per iteration without deleting gates with vanishing gradients"
      ],
      "metadata": {
        "id": "rqJOKuuudTJ8"
      }
    },
    {
      "cell_type": "markdown",
      "source": [
        "From the performance of the following algorithm, we see that the algorithm described in the outline achieves better results with fewer number of gates and epochs."
      ],
      "metadata": {
        "id": "5Z79II9I9Z7s"
      }
    },
    {
      "cell_type": "code",
      "source": [
        "#! /usr/bin/python3\n",
        "\n",
        "import pennylane as qml\n",
        "from pennylane import numpy as np\n",
        "from pennylane import qchem\n",
        "import time\n",
        "\n",
        "def penny_simulation(params, H, HF, sets, qubits, conv_tol, threshold):\n",
        "  \"\"\"Main function to run the optimization loop.\n",
        "\n",
        "  Args:\n",
        "      - params (tensor): the parameters to be optimized in the ansatz.\n",
        "      - H: the molecular Hamiltonian of the system in the qubit representation.\n",
        "      - HF (numpy.ndarray): the Hartree-Fock state vector.\n",
        "      - sets (list): total spin orbital indices used to build the Givens rotations a.k.a particle-preserving operators (qubit gates).\n",
        "      - qubits (int): the number of qubits used to build the circuit.\n",
        "      - conv_tol (float): convergence tolerance to stop training.\n",
        "      - threshold (float): threshold for the smallest gradient.\n",
        "\n",
        "  Returns:\n",
        "      - energy (list): a list of expected values of each iteration.\n",
        "      - sets (list): a list of excitations corresponding to the gates used in the final circuit.\n",
        "      - params (list): a list of optimized parameters.\n",
        "      - n (int): number of epochs.\n",
        "  \"\"\"\n",
        "\n",
        "  def ansatz(params, wires, to_gates):\n",
        "    \"\"\"Function that defines the circuit to be optimized.\"\"\"\n",
        "    qml.BasisState(HF, wires=wires) # The reference Hartree-Fock state.\n",
        "    for i, elem in enumerate(to_gates):\n",
        "      if len(elem) == 4:\n",
        "        qml.DoubleExcitation(params[i], wires=elem)\n",
        "      else:\n",
        "        qml.SingleExcitation(params[i], wires=elem)\n",
        "  \n",
        "  # Step 8.\n",
        "  opt = qml.GradientDescentOptimizer(stepsize=0.4)  \n",
        "  dev = qml.device(\"default.qubit\", wires=qubits)\n",
        "  cost = qml.ExpvalCost(ansatz, H, dev, optimize=True)\n",
        "  circuit_gradient = qml.grad(cost, argnum=0)\n",
        "  epochs = 20\n",
        "  energy = [cost(params, to_gates=sets)]\n",
        "  print(f\"Epoch = 0,  Energy = {energy[-1]:.8f} Ha, t = 0s\")\n",
        "  print(\"Number of gates = {}\\n\".format(len(sets)))\n",
        "\n",
        "  for n in range(epochs):\n",
        "    t1 = time.time()\n",
        "    grads = circuit_gradient(params,to_gates=sets) # Step 9.\n",
        "\n",
        "    maxpos = np.argmax(grads) # Beginning of Step 10.\n",
        "    max=sets[maxpos]\n",
        "    sets.append(max)\n",
        "    params=np.append(params, 0) # End of step 10.\n",
        "    \n",
        "    params, prev_energy = opt.step_and_cost(cost, params, to_gates=sets) # Step 11.\n",
        "    energy.append(cost(params, to_gates=sets))\n",
        "    conv = np.abs(-7.8825378193 - prev_energy) # Step 12.\n",
        "    t2 = time.time()\n",
        "    print(f\"Epoch = {n+1}, Energy = {energy[-1]:.8f} Ha, t = {t2-t1:.2f}s\")\n",
        "    print(\"Number of gates = {}\\n\".format(len(sets)))\n",
        "    if conv <= conv_tol:\n",
        "      break\n",
        "\n",
        "  return energy, sets, params, n\n",
        "\n",
        "if __name__ == \"__main__\":\n",
        "  symbols = [\"Li\", \"H\"] # Beginning of step 1.\n",
        "  geometry = np.array([0.0, 0.0, 0.0, 0.0, 0.0, 2.969280527], dtype=float)\n",
        "  H, qubits = qml.qchem.molecular_hamiltonian(symbols, geometry, active_electrons=2, active_orbitals=5) # End of step 2.\n",
        "  electrons = 2\n",
        "  singles, doubles = qchem.excitations(electrons, qubits) # Step 3.\n",
        "  sets = singles+doubles # Step 4.\n",
        "  HF = qml.qchem.hf_state(electrons, qubits) # Step 5.\n",
        "  params = np.zeros(len(sets), requires_grad=True) # Beginning of step 6.\n",
        "  energy, sets, angles, n = penny_simulation(params, H, HF, sets, qubits, conv_tol=1e-04, threshold=1.0e-4) # Beginning of the optimization loop.\n",
        "  print(\"Expected ground-state energy: -7.8825378193.\")\n",
        "  print(f\"Simulation = {energy[-1]:.8f} Ha\")"
      ],
      "metadata": {
        "colab": {
          "base_uri": "https://localhost:8080/"
        },
        "id": "W06sz4hgcdG2",
        "outputId": "437e32ef-28d7-4bc9-f1f0-c3c194a6689b"
      },
      "execution_count": null,
      "outputs": [
        {
          "output_type": "stream",
          "name": "stdout",
          "text": [
            "Epoch = 0,  Energy = -7.86266587 Ha, t = 0s\n",
            "Number of gates = 24\n",
            "\n",
            "Epoch = 1, Energy = -7.86985383 Ha, t = 19.90s\n",
            "Number of gates = 25\n",
            "\n",
            "Epoch = 2, Energy = -7.87450290 Ha, t = 21.14s\n",
            "Number of gates = 26\n",
            "\n",
            "Epoch = 3, Energy = -7.87733380 Ha, t = 22.61s\n",
            "Number of gates = 27\n",
            "\n",
            "Epoch = 4, Energy = -7.87904365 Ha, t = 23.29s\n",
            "Number of gates = 28\n",
            "\n",
            "Epoch = 5, Energy = -7.88011206 Ha, t = 23.46s\n",
            "Number of gates = 29\n",
            "\n",
            "Epoch = 6, Energy = -7.88079852 Ha, t = 23.94s\n",
            "Number of gates = 30\n",
            "\n",
            "Epoch = 7, Energy = -7.88124764 Ha, t = 24.37s\n",
            "Number of gates = 31\n",
            "\n",
            "Epoch = 8, Energy = -7.88154767 Ha, t = 24.48s\n",
            "Number of gates = 32\n",
            "\n",
            "Epoch = 9, Energy = -7.88175335 Ha, t = 24.75s\n",
            "Number of gates = 33\n",
            "\n",
            "Epoch = 10, Energy = -7.88189845 Ha, t = 24.85s\n",
            "Number of gates = 34\n",
            "\n",
            "Epoch = 11, Energy = -7.88200372 Ha, t = 25.17s\n",
            "Number of gates = 35\n",
            "\n",
            "Epoch = 12, Energy = -7.88208206 Ha, t = 25.43s\n",
            "Number of gates = 36\n",
            "\n",
            "Epoch = 13, Energy = -7.88214162 Ha, t = 26.04s\n",
            "Number of gates = 37\n",
            "\n",
            "Epoch = 14, Energy = -7.88218776 Ha, t = 25.80s\n",
            "Number of gates = 38\n",
            "\n",
            "Epoch = 15, Energy = -7.88222409 Ha, t = 26.59s\n",
            "Number of gates = 39\n",
            "\n",
            "Epoch = 16, Energy = -7.88225316 Ha, t = 26.68s\n",
            "Number of gates = 40\n",
            "\n",
            "Epoch = 17, Energy = -7.88227674 Ha, t = 27.09s\n",
            "Number of gates = 41\n",
            "\n",
            "Epoch = 18, Energy = -7.88229613 Ha, t = 27.06s\n",
            "Number of gates = 42\n",
            "\n",
            "Epoch = 19, Energy = -7.88231225 Ha, t = 26.49s\n",
            "Number of gates = 43\n",
            "\n",
            "Epoch = 20, Energy = -7.88232581 Ha, t = 27.53s\n",
            "Number of gates = 44\n",
            "\n",
            "Expected ground-state energy: -7.8825378193.\n",
            "Simulation = -7.88232581 Ha\n"
          ]
        }
      ]
    },
    {
      "cell_type": "code",
      "source": [
        "import matplotlib.pyplot as plt\n",
        "\n",
        "E_fci = -7.8825378193\n",
        "fig=plt.figure()\n",
        "fig.set_figheight(6)\n",
        "fig.set_figwidth(10)\n",
        "plt.plot(range(n + 2), energy, \"go\", label=r\"$E_\\mathrm{HF}$\", ls=\"dashed\")\n",
        "plt.plot(range(n + 2), np.full(n + 2, E_fci), label=r\"$E_\\mathrm{FCI}$\", color=\"red\")\n",
        "plt.title('VQE optimization for the LiH Molecule')\n",
        "plt.legend(loc='upper right')\n",
        "plt.xlabel('Optimization step')\n",
        "plt.ylabel('Energy (Hartree)')\n",
        "plt.show()"
      ],
      "metadata": {
        "colab": {
          "base_uri": "https://localhost:8080/",
          "height": 404
        },
        "id": "Gbz4_maEE9Yk",
        "outputId": "ad2ff9cb-6011-4db9-dcd7-d491d4a7986b"
      },
      "execution_count": null,
      "outputs": [
        {
          "output_type": "display_data",
          "data": {
            "image/png": "[encoded data removed]",
            "text/plain": [
              "<Figure size 720x432 with 1 Axes>"
            ]
          },
          "metadata": {
            "needs_background": "light"
          }
        }
      ]
    },
    {
      "cell_type": "markdown",
      "source": [
        "### Comparing optimization for a fixed ansatz"
      ],
      "metadata": {
        "id": "Xao1Ifvhfpp8"
      }
    },
    {
      "cell_type": "markdown",
      "source": [
        "The same can be said here. A variational circuit outperforms a fixed ansatz. While the first algorithm achieves -7.882 at epoch no.7 with 24 gates, the following algorihm with a fixed ansatz achineves -7.882 at epoch no. 14."
      ],
      "metadata": {
        "id": "rayHXhu39-Nv"
      }
    },
    {
      "cell_type": "code",
      "source": [
        "#! /usr/bin/python3\n",
        "\n",
        "import pennylane as qml\n",
        "from pennylane import numpy as np\n",
        "from pennylane import qchem\n",
        "import time\n",
        "\n",
        "def penny_simulation(params, H, HF, sets, qubits, conv_tol, threshold):\n",
        "  \"\"\"Main function to run the optimization loop.\n",
        "\n",
        "  Args:\n",
        "      - params (tensor): the parameters to be optimized in the ansatz.\n",
        "      - H: the molecular Hamiltonian of the system in the qubit representation.\n",
        "      - HF (numpy.ndarray): the Hartree-Fock state vector.\n",
        "      - sets (list): total spin orbital indices used to build the Givens rotations a.k.a particle-preserving operators (qubit gates).\n",
        "      - qubits (int): the number of qubits used to build the circuit.\n",
        "      - conv_tol (float): convergence tolerance to stop training.\n",
        "      - threshold (float): threshold for the smallest gradient.\n",
        "\n",
        "  Returns:\n",
        "      - energy (list): a list of expected values of each iteration.\n",
        "      - sets (list): a list of excitations corresponding to the gates used in the final circuit.\n",
        "      - params (list): a list of optimized parameters.\n",
        "      - n (int): number of epochs.\n",
        "  \"\"\"\n",
        "\n",
        "  def ansatz(params, wires, to_gates):\n",
        "    \"\"\"Function that defines the circuit to be optimized.\"\"\"\n",
        "    qml.BasisState(HF, wires=wires) # The reference Hartree-Fock state.\n",
        "    for i, elem in enumerate(to_gates):\n",
        "      if len(elem) == 4:\n",
        "        qml.DoubleExcitation(params[i], wires=elem)\n",
        "      else:\n",
        "        qml.SingleExcitation(params[i], wires=elem)\n",
        "  \n",
        "  # Step 8.\n",
        "  opt = qml.GradientDescentOptimizer(stepsize=0.4)  \n",
        "  dev = qml.device(\"default.qubit\", wires=qubits)\n",
        "  cost = qml.ExpvalCost(ansatz, H, dev, optimize=True)\n",
        "  circuit_gradient = qml.grad(cost, argnum=0)\n",
        "  epochs = 20\n",
        "  energy = [cost(params, to_gates=sets)]\n",
        "  print(f\"Epoch = 0,  Energy = {energy[-1]:.8f} Ha, t = 0s\")\n",
        "  print(\"Number of gates = {}\\n\".format(len(sets)))\n",
        "\n",
        "  for n in range(epochs):\n",
        "    t1 = time.time()\n",
        "    grads = circuit_gradient(params,to_gates=sets) # Step 9. From now on we skip step 10.\n",
        "    params, prev_energy = opt.step_and_cost(cost, params, to_gates=sets) # Step 11.\n",
        "    energy.append(cost(params, to_gates=sets))\n",
        "    conv = np.abs(-7.8825378193 - prev_energy) # Step 12.\n",
        "    t2 = time.time()\n",
        "    print(f\"Epoch = {n+1}, Energy = {energy[-1]:.8f} Ha, t = {t2-t1:.2f}s\")\n",
        "    print(\"Number of gates = {}\\n\".format(len(sets)))\n",
        "    if conv <= conv_tol:\n",
        "      break\n",
        "\n",
        "  return energy, sets, params, n\n",
        "\n",
        "if __name__ == \"__main__\":\n",
        "  symbols = [\"Li\", \"H\"] # Beginning of step 1.\n",
        "  geometry = np.array([0.0, 0.0, 0.0, 0.0, 0.0, 2.969280527], dtype=float)\n",
        "  H, qubits = qml.qchem.molecular_hamiltonian(symbols, geometry, active_electrons=2, active_orbitals=5) # End of step 2.\n",
        "  electrons = 2\n",
        "  singles, doubles = qchem.excitations(electrons, qubits) # Step 3.\n",
        "  sets = singles+doubles # Step 4.\n",
        "  HF = qml.qchem.hf_state(electrons, qubits) # Step 5.\n",
        "  params = np.zeros(len(sets), requires_grad=True) # Beginning of step 6.\n",
        "  energy, sets, angles, n = penny_simulation(params, H, HF, sets, qubits, conv_tol=1e-04, threshold=1.0e-4) # Beginning of the optimization loop.\n",
        "  print(\"Expected ground-state energy: -7.8825378193.\")\n",
        "  print(f\"Simulation = {energy[-1]:.8f} Ha\")"
      ],
      "metadata": {
        "colab": {
          "base_uri": "https://localhost:8080/"
        },
        "id": "gp95LUz3Mf4d",
        "outputId": "2470b06f-6c96-477a-dd73-0da249eae686"
      },
      "execution_count": null,
      "outputs": [
        {
          "output_type": "stream",
          "name": "stdout",
          "text": [
            "Epoch = 0,  Energy = -7.86266587 Ha, t = 0s\n",
            "Number of gates = 24\n",
            "\n",
            "Epoch = 1, Energy = -7.86947865 Ha, t = 19.14s\n",
            "Number of gates = 24\n",
            "\n",
            "Epoch = 2, Energy = -7.87385844 Ha, t = 19.82s\n",
            "Number of gates = 24\n",
            "\n",
            "Epoch = 3, Energy = -7.87667722 Ha, t = 19.51s\n",
            "Number of gates = 24\n",
            "\n",
            "Epoch = 4, Energy = -7.87849872 Ha, t = 19.59s\n",
            "Number of gates = 24\n",
            "\n",
            "Epoch = 5, Energy = -7.87968343 Ha, t = 19.79s\n",
            "Number of gates = 24\n",
            "\n",
            "Epoch = 6, Energy = -7.88046071 Ha, t = 19.69s\n",
            "Number of gates = 24\n",
            "\n",
            "Epoch = 7, Energy = -7.88097626 Ha, t = 22.16s\n",
            "Number of gates = 24\n",
            "\n",
            "Epoch = 8, Energy = -7.88132277 Ha, t = 19.82s\n",
            "Number of gates = 24\n",
            "\n",
            "Epoch = 9, Energy = -7.88155938 Ha, t = 19.53s\n",
            "Number of gates = 24\n",
            "\n",
            "Epoch = 10, Energy = -7.88172397 Ha, t = 19.62s\n",
            "Number of gates = 24\n",
            "\n",
            "Epoch = 11, Energy = -7.88184092 Ha, t = 19.22s\n",
            "Number of gates = 24\n",
            "\n",
            "Epoch = 12, Energy = -7.88192606 Ha, t = 19.49s\n",
            "Number of gates = 24\n",
            "\n",
            "Epoch = 13, Energy = -7.88198970 Ha, t = 19.13s\n",
            "Number of gates = 24\n",
            "\n",
            "Epoch = 14, Energy = -7.88203861 Ha, t = 20.39s\n",
            "Number of gates = 24\n",
            "\n",
            "Epoch = 15, Energy = -7.88207727 Ha, t = 28.93s\n",
            "Number of gates = 24\n",
            "\n",
            "Epoch = 16, Energy = -7.88210870 Ha, t = 19.29s\n",
            "Number of gates = 24\n",
            "\n",
            "Epoch = 17, Energy = -7.88213491 Ha, t = 19.46s\n",
            "Number of gates = 24\n",
            "\n",
            "Epoch = 18, Energy = -7.88215728 Ha, t = 19.81s\n",
            "Number of gates = 24\n",
            "\n",
            "Epoch = 19, Energy = -7.88217677 Ha, t = 19.67s\n",
            "Number of gates = 24\n",
            "\n",
            "Epoch = 20, Energy = -7.88219404 Ha, t = 21.36s\n",
            "Number of gates = 24\n",
            "\n",
            "Expected ground-state energy: -7.8825378193.\n",
            "Simulation = -7.88219404 Ha\n"
          ]
        }
      ]
    },
    {
      "cell_type": "code",
      "source": [
        "import matplotlib.pyplot as plt\n",
        "\n",
        "E_fci = -7.8825378193\n",
        "fig=plt.figure()\n",
        "fig.set_figheight(6)\n",
        "fig.set_figwidth(10)\n",
        "plt.plot(range(n + 2), energy, \"go\", label=r\"$E_\\mathrm{HF}$\", ls=\"dashed\")\n",
        "plt.plot(range(n + 2), np.full(n + 2, E_fci), label=r\"$E_\\mathrm{FCI}$\", color=\"red\")\n",
        "plt.title('VQE optimization for the LiH Molecule')\n",
        "plt.legend(loc='upper right')\n",
        "plt.xlabel('Optimization step')\n",
        "plt.ylabel('Energy (Hartree)')\n",
        "plt.show()"
      ],
      "metadata": {
        "colab": {
          "base_uri": "https://localhost:8080/",
          "height": 404
        },
        "id": "_Sd9QDiKFAx8",
        "outputId": "611cf2e4-3bc4-4408-8c74-98e324a02946"
      },
      "execution_count": null,
      "outputs": [
        {
          "output_type": "display_data",
          "data": {
            "image/png": "[encoded data removed]",
            "text/plain": [
              "<Figure size 720x432 with 1 Axes>"
            ]
          },
          "metadata": {
            "needs_background": "light"
          }
        }
      ]
    },
    {
      "cell_type": "markdown",
      "source": [
        "## Qamuy"
      ],
      "metadata": {
        "id": "hdvLawbfMXnD"
      }
    },
    {
      "cell_type": "code",
      "source": [
        "email_address = \"email_address\" #@param\n",
        "password = \"password\" #@param"
      ],
      "metadata": {
        "id": "fKyTXfOuhvRo"
      },
      "execution_count": null,
      "outputs": []
    },
    {
      "cell_type": "code",
      "source": [
        "!qamuy reset-password"
      ],
      "metadata": {
        "id": "hMW6ZHvN7acq"
      },
      "execution_count": null,
      "outputs": []
    },
    {
      "cell_type": "code",
      "source": [
        "!qamuy login"
      ],
      "metadata": {
        "id": "lec-zlIU8oL5"
      },
      "execution_count": null,
      "outputs": []
    },
    {
      "cell_type": "code",
      "source": [
        "qclient = Client(email_address=email_address, password=password)"
      ],
      "metadata": {
        "id": "VkUsAbRt65vr"
      },
      "execution_count": null,
      "outputs": []
    },
    {
      "cell_type": "code",
      "source": [
        "setting = qy.QamuyChemistryInput()"
      ],
      "metadata": {
        "id": "G2OLlGCF6XZV"
      },
      "execution_count": null,
      "outputs": []
    },
    {
      "cell_type": "markdown",
      "source": [
        "# &nbsp; <a href=\"#\"><img valign=\"middle\" height=\"45px\" src=\"https://img.icons8.com/book\" width=\"45\" hspace=\"0px\" vspace=\"0px\"></a> References"
      ],
      "metadata": {
        "id": "TbCFHsmWuauB"
      }
    },
    {
      "cell_type": "markdown",
      "source": [
        "\n",
        "\\[1] McClean, J.R., Boixo, S., Smelyanskiy, V.N. et al. Barren plateaus in quantum neural network training landscapes. [Nat Commun 9, 4812 (2018)](https://www.nature.com/articles/s41467-018-07090-4). \n",
        "\n",
        "\\[2] Grimsley, H. R.; Claudino, D.; Economou, S. E.; Barnes, E.; Mayhall, N. J. Is the trotterized uccsd ansatz chemically well-defined? [J. Chem. Theory Comput. 2020, 16, 1](https://pubs.acs.org/doi/abs/10.1021/acs.jctc.9b01083).\n",
        "\n",
        "[3] Harper R. Grimsley, Sophia E. Economou, Edwin Barnes, Nicholas J. Mayhall, “An adaptive variational algorithm for exact molecular simulations on a quantum computer”. [Nat. Commun. 2019, 10, 3007](https://www.nature.com/articles/s41467-019-10988-2).\n",
        "\n",
        "[4] PennyLane dev team, \"Adaptive circuits for quantum chemistry\". [PennyLane, 13 September 2021](https://pennylane.ai/qml/demos/tutorial_adaptive_circuits.html).\n",
        "\n",
        "[5] Peruzzo, A., McClean, J., Shadbolt, P. et al. A variational eigenvalue solver on a photonic quantum processor. [Nat Commun 5, 4213 (2014)](https://doi.org/10.1038/ncomms5213)."
      ],
      "metadata": {
        "id": "4solwa7Du3ao"
      }
    }
  ],
  "metadata": {
    "colab": {
      "collapsed_sections": [
        "q1IxTZ-MNG1P",
        "CmbgaBs5oiy7",
        "GHTBXRY_Th2M",
        "v--q3KNPTrMM",
        "IUFyfpx5T7bW",
        "8k25UhVnpAtn",
        "l3TMhBROpKZW",
        "1W0zE8T8h40U",
        "TgyEK0m4Pti1",
        "A2a3S6AW391x",
        "rqJOKuuudTJ8",
        "Xao1Ifvhfpp8",
        "hdvLawbfMXnD",
        "TbCFHsmWuauB"
      ],
      "name": "presentation.ipynb",
      "provenance": []
    },
    "kernelspec": {
      "display_name": "Python 3",
      "language": "python",
      "name": "python3"
    }
  },
  "nbformat": 4,
  "nbformat_minor": 0
}